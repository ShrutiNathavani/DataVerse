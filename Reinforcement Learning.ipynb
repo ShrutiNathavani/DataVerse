{
 "cells": [
  {
   "cell_type": "code",
   "execution_count": 2,
   "metadata": {},
   "outputs": [],
   "source": [
    "import numpy as np\n",
    "import pandas as pd\n",
    "import pylab as pl\n",
    "import networkx as nx"
   ]
  },
  {
   "cell_type": "code",
   "execution_count": 3,
   "metadata": {},
   "outputs": [
    {
     "data": {
      "text/plain": [
       "<function matplotlib.pyplot.show(close=None, block=None)>"
      ]
     },
     "execution_count": 3,
     "metadata": {},
     "output_type": "execute_result"
    },
    {
     "data": {
      "image/png": "[encoded data removed]",
      "text/plain": [
       "<Figure size 640x480 with 1 Axes>"
      ]
     },
     "metadata": {},
     "output_type": "display_data"
    }
   ],
   "source": [
    "#draw the graph\n",
    "edges=[(0,1),(1,5),(1,6),(5,6),(5,4),(1,2),(1,3),(9,10),(10,10),(2,4),(0,6),(6,7),(8,9),(7,8),(1,7),(3,9),(10,3)]\n",
    "G=nx.Graph()\n",
    "G.add_edges_from(edges)\n",
    "pos=nx.spring_layout(G)\n",
    "nx.draw_networkx_nodes(G,pos)  #declares the node of the graph\n",
    "nx.draw_networkx_edges(G,pos) \n",
    "nx.draw_networkx_labels(G,pos)\n",
    "pl.show"
   ]
  },
  {
   "cell_type": "code",
   "execution_count": 4,
   "metadata": {},
   "outputs": [],
   "source": [
    "#read matrix\n",
    "matrix_size=11\n",
    "goal=3\n",
    "R=np.matrix(np.ones(shape=(matrix_size,matrix_size)))"
   ]
  },
  {
   "cell_type": "code",
   "execution_count": 5,
   "metadata": {},
   "outputs": [],
   "source": [
    "R*=-1"
   ]
  },
  {
   "cell_type": "code",
   "execution_count": 6,
   "metadata": {},
   "outputs": [
    {
     "data": {
      "text/plain": [
       "matrix([[-1., -1., -1., -1., -1., -1., -1., -1., -1., -1., -1.],\n",
       "        [-1., -1., -1., -1., -1., -1., -1., -1., -1., -1., -1.],\n",
       "        [-1., -1., -1., -1., -1., -1., -1., -1., -1., -1., -1.],\n",
       "        [-1., -1., -1., -1., -1., -1., -1., -1., -1., -1., -1.],\n",
       "        [-1., -1., -1., -1., -1., -1., -1., -1., -1., -1., -1.],\n",
       "        [-1., -1., -1., -1., -1., -1., -1., -1., -1., -1., -1.],\n",
       "        [-1., -1., -1., -1., -1., -1., -1., -1., -1., -1., -1.],\n",
       "        [-1., -1., -1., -1., -1., -1., -1., -1., -1., -1., -1.],\n",
       "        [-1., -1., -1., -1., -1., -1., -1., -1., -1., -1., -1.],\n",
       "        [-1., -1., -1., -1., -1., -1., -1., -1., -1., -1., -1.],\n",
       "        [-1., -1., -1., -1., -1., -1., -1., -1., -1., -1., -1.]])"
      ]
     },
     "execution_count": 6,
     "metadata": {},
     "output_type": "execute_result"
    }
   ],
   "source": [
    "R"
   ]
  },
  {
   "cell_type": "code",
   "execution_count": 7,
   "metadata": {},
   "outputs": [
    {
     "name": "stdout",
     "output_type": "stream",
     "text": [
      "[[ -1.   0.  -1.  -1.  -1.  -1.   0.  -1.  -1.  -1.  -1.]\n",
      " [  0.  -1.   0. 100.  -1.   0.   0.   0.  -1.  -1.  -1.]\n",
      " [ -1.   0.  -1.  -1.   0.  -1.  -1.  -1.  -1.  -1.  -1.]\n",
      " [ -1.   0.  -1.  -1.  -1.  -1.  -1.  -1.  -1.   0.   0.]\n",
      " [ -1.  -1.   0.  -1.  -1.   0.  -1.  -1.  -1.  -1.  -1.]\n",
      " [ -1.   0.  -1.  -1.   0.  -1.   0.  -1.  -1.  -1.  -1.]\n",
      " [  0.   0.  -1.  -1.  -1.   0.  -1.   0.  -1.  -1.  -1.]\n",
      " [ -1.   0.  -1.  -1.  -1.  -1.   0.  -1.   0.  -1.  -1.]\n",
      " [ -1.  -1.  -1.  -1.  -1.  -1.  -1.   0.  -1.   0.  -1.]\n",
      " [ -1.  -1.  -1. 100.  -1.  -1.  -1.  -1.   0.  -1.   0.]\n",
      " [ -1.  -1.  -1. 100.  -1.  -1.  -1.  -1.  -1.   0.   0.]]\n"
     ]
    }
   ],
   "source": [
    "for point in edges:\n",
    "    if(point[1]==goal): #forward case of edges\n",
    "        R[point]=100\n",
    "    else:\n",
    "        R[point]=0\n",
    "    if(point[0]==goal): #reverse case of edges\n",
    "        R[point[::-1]]=100\n",
    "    else:\n",
    "        R[point[::-1]]=0\n",
    "\n",
    "#R[goal,goal]=100    #write only when uh have self loopS\n",
    "print(R)"
   ]
  },
  {
   "cell_type": "code",
   "execution_count": 8,
   "metadata": {},
   "outputs": [],
   "source": [
    "#define Q matrix\n",
    "Q=np.matrix(np.zeros([matrix_size,matrix_size]))\n",
    "gamma=0.75\n",
    "initial_state=1"
   ]
  },
  {
   "cell_type": "code",
   "execution_count": 9,
   "metadata": {},
   "outputs": [],
   "source": [
    "def available_states(state):\n",
    "    all_options=R[state,]\n",
    "    available_options=np.where(all_options>=0)[1]\n",
    "    return(available_options)"
   ]
  },
  {
   "cell_type": "code",
   "execution_count": 10,
   "metadata": {},
   "outputs": [],
   "source": [
    "all_connections=available_states(initial_state)"
   ]
  },
  {
   "cell_type": "code",
   "execution_count": 11,
   "metadata": {},
   "outputs": [
    {
     "data": {
      "text/plain": [
       "array([0, 2, 3, 5, 6, 7], dtype=int64)"
      ]
     },
     "execution_count": 11,
     "metadata": {},
     "output_type": "execute_result"
    }
   ],
   "source": [
    "all_connections"
   ]
  },
  {
   "cell_type": "code",
   "execution_count": 12,
   "metadata": {},
   "outputs": [],
   "source": [
    "def choose_next_state(all_connections):\n",
    "    next_state=int(np.random.choice(all_connections,1))\n",
    "    return next_state"
   ]
  },
  {
   "cell_type": "code",
   "execution_count": 13,
   "metadata": {},
   "outputs": [],
   "source": [
    "action=choose_next_state(all_connections)"
   ]
  },
  {
   "cell_type": "code",
   "execution_count": 14,
   "metadata": {},
   "outputs": [
    {
     "data": {
      "text/plain": [
       "2"
      ]
     },
     "execution_count": 14,
     "metadata": {},
     "output_type": "execute_result"
    }
   ],
   "source": [
    "action"
   ]
  },
  {
   "cell_type": "code",
   "execution_count": 15,
   "metadata": {},
   "outputs": [],
   "source": [
    "def Q_update(gamma,initial_state,action):\n",
    "   max_index= np.where(Q[action,]==np.max(Q[action,]))[1]\n",
    "   if(max_index.shape[0]>1):\n",
    "      max_index=int(np.random.choice(max_index,1))\n",
    "   else:\n",
    "      max_index=int(max_index)\n",
    "   max_value=Q[action,max_index]   \n",
    "   Q[initial_state,action]=R[initial_state,action]+gamma*max_value\n",
    "\n",
    "   if(np.max(Q)>0):\n",
    "      return(np.sum(Q/np.max(Q)))\n",
    "   else:\n",
    "      return(0)"
   ]
  },
  {
   "cell_type": "code",
   "execution_count": 16,
   "metadata": {},
   "outputs": [
    {
     "name": "stdout",
     "output_type": "stream",
     "text": [
      "before updation of Q\n",
      "[[0. 0. 0. 0. 0. 0. 0. 0. 0. 0. 0.]\n",
      " [0. 0. 0. 0. 0. 0. 0. 0. 0. 0. 0.]\n",
      " [0. 0. 0. 0. 0. 0. 0. 0. 0. 0. 0.]\n",
      " [0. 0. 0. 0. 0. 0. 0. 0. 0. 0. 0.]\n",
      " [0. 0. 0. 0. 0. 0. 0. 0. 0. 0. 0.]\n",
      " [0. 0. 0. 0. 0. 0. 0. 0. 0. 0. 0.]\n",
      " [0. 0. 0. 0. 0. 0. 0. 0. 0. 0. 0.]\n",
      " [0. 0. 0. 0. 0. 0. 0. 0. 0. 0. 0.]\n",
      " [0. 0. 0. 0. 0. 0. 0. 0. 0. 0. 0.]\n",
      " [0. 0. 0. 0. 0. 0. 0. 0. 0. 0. 0.]\n",
      " [0. 0. 0. 0. 0. 0. 0. 0. 0. 0. 0.]]\n",
      "after updation of Q value\n",
      "[[0. 0. 0. 0. 0. 0. 0. 0. 0. 0. 0.]\n",
      " [0. 0. 0. 0. 0. 0. 0. 0. 0. 0. 0.]\n",
      " [0. 0. 0. 0. 0. 0. 0. 0. 0. 0. 0.]\n",
      " [0. 0. 0. 0. 0. 0. 0. 0. 0. 0. 0.]\n",
      " [0. 0. 0. 0. 0. 0. 0. 0. 0. 0. 0.]\n",
      " [0. 0. 0. 0. 0. 0. 0. 0. 0. 0. 0.]\n",
      " [0. 0. 0. 0. 0. 0. 0. 0. 0. 0. 0.]\n",
      " [0. 0. 0. 0. 0. 0. 0. 0. 0. 0. 0.]\n",
      " [0. 0. 0. 0. 0. 0. 0. 0. 0. 0. 0.]\n",
      " [0. 0. 0. 0. 0. 0. 0. 0. 0. 0. 0.]\n",
      " [0. 0. 0. 0. 0. 0. 0. 0. 0. 0. 0.]]\n"
     ]
    }
   ],
   "source": [
    "print(\"before updation of Q\")\n",
    "print(Q)\n",
    "Q_update(gamma,initial_state,action)\n",
    "print(\"after updation of Q value\")\n",
    "print(Q)"
   ]
  },
  {
   "cell_type": "code",
   "execution_count": 17,
   "metadata": {},
   "outputs": [
    {
     "name": "stdout",
     "output_type": "stream",
     "text": [
      "[[  0.         171.42845547   0.           0.           0.\n",
      "    0.         128.5713416    0.           0.           0.\n",
      "    0.        ]\n",
      " [128.5713416    0.         128.5713416  228.57127396   0.\n",
      "  128.57055984 128.5713416  128.57055984   0.           0.\n",
      "    0.        ]\n",
      " [  0.         171.42845547   0.           0.          96.4285062\n",
      "    0.           0.           0.           0.           0.\n",
      "    0.        ]\n",
      " [  0.         171.42845547   0.           0.           0.\n",
      "    0.           0.           0.           0.         171.42853474\n",
      "  171.42855079]\n",
      " [  0.           0.         128.5713416    0.           0.\n",
      "  128.5713416    0.           0.           0.           0.\n",
      "    0.        ]\n",
      " [  0.         171.42845547   0.           0.          96.4285062\n",
      "    0.         128.5713416    0.           0.           0.\n",
      "    0.        ]\n",
      " [128.57055984 171.42845547   0.           0.           0.\n",
      "  128.5713416    0.         128.5713416    0.           0.\n",
      "    0.        ]\n",
      " [  0.         171.42845547   0.           0.           0.\n",
      "    0.         128.5713416    0.         128.57140105   0.\n",
      "    0.        ]\n",
      " [  0.           0.           0.           0.           0.\n",
      "    0.           0.         128.5713416    0.         171.42853474\n",
      "    0.        ]\n",
      " [  0.           0.           0.         228.57137965   0.\n",
      "    0.           0.           0.         128.57140105   0.\n",
      "  171.42845547]\n",
      " [  0.           0.           0.         228.57141309   0.\n",
      "    0.           0.           0.           0.         171.42853474\n",
      "  171.42855982]]\n"
     ]
    }
   ],
   "source": [
    "scores=[]\n",
    "\n",
    "for i in range(1000):\n",
    "    initial_state=int(np.random.randint(0,Q.shape[0]))\n",
    "    all_connections=available_states(initial_state)\n",
    "    action=choose_next_state(all_connections)\n",
    "    score=Q_update(gamma,initial_state,action)\n",
    "    scores.append(score)\n",
    "print(Q)"
   ]
  },
  {
   "cell_type": "code",
   "execution_count": 18,
   "metadata": {},
   "outputs": [
    {
     "data": {
      "text/plain": [
       "[<matplotlib.lines.Line2D at 0x159dcaddd90>]"
      ]
     },
     "execution_count": 18,
     "metadata": {},
     "output_type": "execute_result"
    },
    {
     "data": {
      "image/png": "[encoded data removed]",
      "text/plain": [
       "<Figure size 640x480 with 1 Axes>"
      ]
     },
     "metadata": {},
     "output_type": "display_data"
    }
   ],
   "source": [
    "pl.plot(scores)"
   ]
  },
  {
   "cell_type": "code",
   "execution_count": 19,
   "metadata": {},
   "outputs": [],
   "source": [
    "#Testing Phase\n",
    "\n",
    "steps=[]\n",
    "initial_state=0\n",
    "goal=2\n",
    "steps=[initial_state]\n",
    "while initial_state!=goal:\n",
    "    next_index=np.where(Q[initial_state,]==np.max(Q[initial_state]))[1]\n",
    "    if (next_index.shape[0]>1):\n",
    "        next_index=int(np.random.choice(next_index,1))\n",
    "    else:\n",
    "        next_index=int(next_index)\n",
    "    steps.append(next_index)\n",
    "    initial_state=next_index\n",
    "print(steps)"
   ]
  }
 ],
 "metadata": {
  "kernelspec": {
   "display_name": "Python 3",
   "language": "python",
   "name": "python3"
  },
  "language_info": {
   "codemirror_mode": {
    "name": "ipython",
    "version": 3
   },
   "file_extension": ".py",
   "mimetype": "text/x-python",
   "name": "python",
   "nbconvert_exporter": "python",
   "pygments_lexer": "ipython3",
   "version": "3.8.6"
  },
  "orig_nbformat": 4
 },
 "nbformat": 4,
 "nbformat_minor": 2
}

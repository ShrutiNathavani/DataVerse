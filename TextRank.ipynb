{
  "nbformat": 4,
  "nbformat_minor": 0,
  "metadata": {
    "colab": {
      "provenance": []
    },
    "kernelspec": {
      "name": "python3",
      "display_name": "Python 3"
    },
    "language_info": {
      "name": "python"
    }
  },
  "cells": [
    {
      "cell_type": "code",
      "source": [
        "pip install pytextrank"
      ],
      "metadata": {
        "id": "unygled_L9sp"
      },
      "execution_count": null,
      "outputs": []
    },
    {
      "cell_type": "code",
      "execution_count": null,
      "metadata": {
        "colab": {
          "base_uri": "https://localhost:8080/"
        },
        "id": "snIUYdNeI33b",
        "outputId": "b5013b48-16a2-45bf-820c-a258448b1c03"
      },
      "outputs": [
        {
          "output_type": "stream",
          "name": "stderr",
          "text": [
            "/usr/local/lib/python3.9/dist-packages/torch/cuda/__init__.py:497: UserWarning: Can't initialize NVML\n",
            "  warnings.warn(\"Can't initialize NVML\")\n"
          ]
        }
      ],
      "source": [
        "import spacy"
      ]
    },
    {
      "cell_type": "code",
      "source": [
        "import pytextrank"
      ],
      "metadata": {
        "id": "8U5TC9iBL52D"
      },
      "execution_count": null,
      "outputs": []
    },
    {
      "cell_type": "code",
      "source": [
        "nlp=spacy.load('en_core_web_sm')"
      ],
      "metadata": {
        "id": "-UWD4DlUK6i4"
      },
      "execution_count": null,
      "outputs": []
    },
    {
      "cell_type": "code",
      "source": [
        "text=\"\"\"Hey Arjuna! Life is a journey of self-discovery, where we must explore the depths of our own soul and connect with the divine within us. \n",
        "        It is about learning to love and serve others, and to live a life of compassion and kindness. The meaning of life is to find joy, peace, and fulfillment in every moment.\"\"\""
      ],
      "metadata": {
        "id": "RV9S38fBLBFb"
      },
      "execution_count": null,
      "outputs": []
    },
    {
      "cell_type": "code",
      "source": [
        "nlp.add_pipe(\"textrank\")  # adding in the nlp pipeline"
      ],
      "metadata": {
        "colab": {
          "base_uri": "https://localhost:8080/"
        },
        "id": "l8Gm1e4GLYJg",
        "outputId": "473e6d24-0641-4b93-d0f0-52b075fac242"
      },
      "execution_count": null,
      "outputs": [
        {
          "output_type": "execute_result",
          "data": {
            "text/plain": [
              "<pytextrank.base.BaseTextRankFactory at 0x7f1778d7c250>"
            ]
          },
          "metadata": {},
          "execution_count": 9
        }
      ]
    },
    {
      "cell_type": "code",
      "source": [
        "doc=nlp(text)"
      ],
      "metadata": {
        "id": "zxtFlDpaLVvo"
      },
      "execution_count": null,
      "outputs": []
    },
    {
      "cell_type": "code",
      "source": [
        "for phrases in doc._.phrases:\n",
        "  print(phrases.text)"
      ],
      "metadata": {
        "colab": {
          "base_uri": "https://localhost:8080/"
        },
        "id": "CITQ1MGxMJJK",
        "outputId": "286a9a72-f781-477a-8efe-c58c129d71f6"
      },
      "execution_count": null,
      "outputs": [
        {
          "output_type": "stream",
          "name": "stdout",
          "text": [
            "kindness\n",
            "fulfillment\n",
            "Life\n",
            "life\n",
            "compassion\n",
            "peace\n",
            "others\n",
            "joy\n",
            "our own soul\n",
            "the divine\n",
            "every moment\n",
            "self-discovery\n",
            "a life\n",
            "the depths\n",
            "a journey\n",
            "The meaning\n",
            "It\n",
            "us\n",
            "we\n"
          ]
        }
      ]
    },
    {
      "cell_type": "code",
      "source": [
        "'''\n",
        "Post Processing:\n",
        "1. remove thr stopwords\n",
        "2. remove all repetitions of the phrases\n",
        "3. r\n",
        "'''"
      ],
      "metadata": {
        "id": "wBFrvFOJMZTK"
      },
      "execution_count": null,
      "outputs": []
    }
  ]
}